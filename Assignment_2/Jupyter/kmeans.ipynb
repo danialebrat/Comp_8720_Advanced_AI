{
 "cells": [
  {
   "cell_type": "code",
   "execution_count": 8,
   "metadata": {},
   "outputs": [
    {
     "name": "stdout",
     "output_type": "stream",
     "text": [
      "Requirement already satisfied: pyclustering in /opt/homebrew/Caskroom/miniforge/base/envs/tensor-metal/lib/python3.8/site-packages (0.10.1.2)\n",
      "Requirement already satisfied: matplotlib>=3.0.0 in /opt/homebrew/Caskroom/miniforge/base/envs/tensor-metal/lib/python3.8/site-packages (from pyclustering) (3.5.2)\n",
      "Requirement already satisfied: scipy>=1.1.0 in /opt/homebrew/Caskroom/miniforge/base/envs/tensor-metal/lib/python3.8/site-packages (from pyclustering) (1.10.0)\n",
      "Requirement already satisfied: Pillow>=5.2.0 in /opt/homebrew/Caskroom/miniforge/base/envs/tensor-metal/lib/python3.8/site-packages (from pyclustering) (9.4.0)\n",
      "Requirement already satisfied: numpy>=1.15.2 in /opt/homebrew/Caskroom/miniforge/base/envs/tensor-metal/lib/python3.8/site-packages (from pyclustering) (1.22.4)\n",
      "Requirement already satisfied: packaging>=20.0 in /opt/homebrew/Caskroom/miniforge/base/envs/tensor-metal/lib/python3.8/site-packages (from matplotlib>=3.0.0->pyclustering) (23.0)\n",
      "Requirement already satisfied: pyparsing>=2.2.1 in /opt/homebrew/Caskroom/miniforge/base/envs/tensor-metal/lib/python3.8/site-packages (from matplotlib>=3.0.0->pyclustering) (3.0.9)\n",
      "Requirement already satisfied: python-dateutil>=2.7 in /opt/homebrew/Caskroom/miniforge/base/envs/tensor-metal/lib/python3.8/site-packages (from matplotlib>=3.0.0->pyclustering) (2.8.2)\n",
      "Requirement already satisfied: cycler>=0.10 in /opt/homebrew/Caskroom/miniforge/base/envs/tensor-metal/lib/python3.8/site-packages (from matplotlib>=3.0.0->pyclustering) (0.11.0)\n",
      "Requirement already satisfied: fonttools>=4.22.0 in /opt/homebrew/Caskroom/miniforge/base/envs/tensor-metal/lib/python3.8/site-packages (from matplotlib>=3.0.0->pyclustering) (4.38.0)\n",
      "Requirement already satisfied: kiwisolver>=1.0.1 in /opt/homebrew/Caskroom/miniforge/base/envs/tensor-metal/lib/python3.8/site-packages (from matplotlib>=3.0.0->pyclustering) (1.4.4)\n",
      "Requirement already satisfied: six>=1.5 in /opt/homebrew/Caskroom/miniforge/base/envs/tensor-metal/lib/python3.8/site-packages (from python-dateutil>=2.7->matplotlib>=3.0.0->pyclustering) (1.16.0)\n"
     ]
    }
   ],
   "source": [
    "!pip install pyclustering\n"
   ]
  },
  {
   "cell_type": "code",
   "execution_count": 9,
   "metadata": {},
   "outputs": [],
   "source": [
    "import pandas as pd\n",
    "\n",
    "# moon dataset\n",
    "dataset = pd.read_csv('moons1.csv')\n",
    "X = dataset.iloc[:, :-1].values\n",
    "y = dataset.iloc[:, -1].values"
   ]
  },
  {
   "cell_type": "code",
   "execution_count": 5,
   "metadata": {},
   "outputs": [],
   "source": [
    "from sklearn.metrics import accuracy_score\n",
    "import numpy as np\n",
    "\n",
    "def purity_score(y_true, y_pred):\n",
    "    \"\"\"Purity score\n",
    "\n",
    "    To compute purity, each cluster is assigned to the class which is most frequent \n",
    "    in the cluster [1], and then the accuracy of this assignment is measured by counting \n",
    "    the number of correctly assigned documents and dividing by the number of documents.\n",
    "    We suppose here that the ground truth labels are integers, the same with the predicted clusters i.e\n",
    "    the clusters index.\n",
    "\n",
    "    Args:\n",
    "        y_true(np.ndarray): n*1 matrix Ground truth labels\n",
    "        y_pred(np.ndarray): n*1 matrix Predicted clusters\n",
    "    \n",
    "    Returns:\n",
    "        float: Purity score\n",
    "    \n",
    "    References:\n",
    "        [1] https://nlp.stanford.edu/IR-book/html/htmledition/evaluation-of-clustering-1.html\n",
    "    \"\"\"\n",
    "    # matrix which will hold the majority-voted labels\n",
    "    y_voted_labels = np.zeros(y_true.shape)\n",
    "    # Ordering labels\n",
    "    ## Labels might be missing e.g with set like 0,2 where 1 is missing\n",
    "    ## First find the unique labels, then map the labels to an ordered set\n",
    "    ## 0,2 should become 0,1\n",
    "    labels = np.unique(y_true)\n",
    "    ordered_labels = np.arange(labels.shape[0])\n",
    "    for k in range(labels.shape[0]):\n",
    "        y_true[y_true==labels[k]] = ordered_labels[k]\n",
    "    # Update unique labels\n",
    "    labels = np.unique(y_true)\n",
    "    # We set the number of bins to be n_classes+2 so that \n",
    "    # we count the actual occurence of classes between two consecutive bin\n",
    "    # the bigger being excluded [bin_i, bin_i+1[\n",
    "    bins = np.concatenate((labels, [np.max(labels)+1]), axis=0)\n",
    "\n",
    "    for cluster in np.unique(y_pred):\n",
    "        hist, _ = np.histogram(y_true[y_pred==cluster], bins=bins)\n",
    "        # Find the most present label in the cluster\n",
    "        winner = np.argmax(hist)\n",
    "        y_voted_labels[y_pred==cluster] = winner\n",
    "    \n",
    "    return accuracy_score(y_true, y_voted_labels)"
   ]
  },
  {
   "cell_type": "code",
   "execution_count": 7,
   "metadata": {},
   "outputs": [
    {
     "ename": "OSError",
     "evalue": "dlopen(/opt/homebrew/Caskroom/miniforge/base/envs/tensor-metal/lib/python3.8/site-packages/pyclustering/core/64-bit/macos/libpyclustering.so, 0x0006): tried: '/opt/homebrew/Caskroom/miniforge/base/envs/tensor-metal/lib/python3.8/site-packages/pyclustering/core/64-bit/macos/libpyclustering.so' (mach-o file, but is an incompatible architecture (have 'x86_64', need 'arm64')), '/System/Volumes/Preboot/Cryptexes/OS/opt/homebrew/Caskroom/miniforge/base/envs/tensor-metal/lib/python3.8/site-packages/pyclustering/core/64-bit/macos/libpyclustering.so' (no such file), '/opt/homebrew/Caskroom/miniforge/base/envs/tensor-metal/lib/python3.8/site-packages/pyclustering/core/64-bit/macos/libpyclustering.so' (mach-o file, but is an incompatible architecture (have 'x86_64', need 'arm64'))",
     "output_type": "error",
     "traceback": [
      "\u001b[0;31m---------------------------------------------------------------------------\u001b[0m",
      "\u001b[0;31mOSError\u001b[0m                                   Traceback (most recent call last)",
      "\u001b[1;32m/Users/mustafamohammadi/Documents/Python Programming/Comp_8720_Advanced_AI/Assignment_2/Jupyter/kmeans.ipynb Cell 4\u001b[0m in \u001b[0;36m<cell line: 29>\u001b[0;34m()\u001b[0m\n\u001b[1;32m     <a href='vscode-notebook-cell:/Users/mustafamohammadi/Documents/Python%20Programming/Comp_8720_Advanced_AI/Assignment_2/Jupyter/kmeans.ipynb#W2sZmlsZQ%3D%3D?line=27'>28</a>\u001b[0m \u001b[39m# print results\u001b[39;00m\n\u001b[1;32m     <a href='vscode-notebook-cell:/Users/mustafamohammadi/Documents/Python%20Programming/Comp_8720_Advanced_AI/Assignment_2/Jupyter/kmeans.ipynb#W2sZmlsZQ%3D%3D?line=28'>29</a>\u001b[0m \u001b[39mfor\u001b[39;00m measure, value \u001b[39min\u001b[39;00m distance_measures\u001b[39m.\u001b[39mitems():\n\u001b[0;32m---> <a href='vscode-notebook-cell:/Users/mustafamohammadi/Documents/Python%20Programming/Comp_8720_Advanced_AI/Assignment_2/Jupyter/kmeans.ipynb#W2sZmlsZQ%3D%3D?line=29'>30</a>\u001b[0m     \u001b[39mprint\u001b[39m(\u001b[39mf\u001b[39m\u001b[39m\"\u001b[39m\u001b[39mThe purity score for \u001b[39m\u001b[39m{\u001b[39;00mmeasure\u001b[39m}\u001b[39;00m\u001b[39m distance is \u001b[39m\u001b[39m{\u001b[39;00m\u001b[39mround\u001b[39m(pyPurity(value)\u001b[39m*\u001b[39m\u001b[39m100\u001b[39m, \u001b[39m2\u001b[39m)\u001b[39m}\u001b[39;00m\u001b[39m%\u001b[39m\u001b[39m\"\u001b[39m)\n",
      "\u001b[1;32m/Users/mustafamohammadi/Documents/Python Programming/Comp_8720_Advanced_AI/Assignment_2/Jupyter/kmeans.ipynb Cell 4\u001b[0m in \u001b[0;36mpyPurity\u001b[0;34m(dist_measure)\u001b[0m\n\u001b[1;32m     <a href='vscode-notebook-cell:/Users/mustafamohammadi/Documents/Python%20Programming/Comp_8720_Advanced_AI/Assignment_2/Jupyter/kmeans.ipynb#W2sZmlsZQ%3D%3D?line=12'>13</a>\u001b[0m initial_centers \u001b[39m=\u001b[39m random_center_initializer(X, \u001b[39m3\u001b[39m, random_state\u001b[39m=\u001b[39m\u001b[39m5\u001b[39m)\u001b[39m.\u001b[39minitialize()\n\u001b[1;32m     <a href='vscode-notebook-cell:/Users/mustafamohammadi/Documents/Python%20Programming/Comp_8720_Advanced_AI/Assignment_2/Jupyter/kmeans.ipynb#W2sZmlsZQ%3D%3D?line=13'>14</a>\u001b[0m \u001b[39m# instance created for respective distance metric\u001b[39;00m\n\u001b[0;32m---> <a href='vscode-notebook-cell:/Users/mustafamohammadi/Documents/Python%20Programming/Comp_8720_Advanced_AI/Assignment_2/Jupyter/kmeans.ipynb#W2sZmlsZQ%3D%3D?line=14'>15</a>\u001b[0m instanceKm \u001b[39m=\u001b[39m kmeans(X, initial_centers\u001b[39m=\u001b[39;49minitial_centers, metric\u001b[39m=\u001b[39;49mdistance_metric(dist_measure))\n\u001b[1;32m     <a href='vscode-notebook-cell:/Users/mustafamohammadi/Documents/Python%20Programming/Comp_8720_Advanced_AI/Assignment_2/Jupyter/kmeans.ipynb#W2sZmlsZQ%3D%3D?line=15'>16</a>\u001b[0m \u001b[39m# perform cluster analysis\u001b[39;00m\n\u001b[1;32m     <a href='vscode-notebook-cell:/Users/mustafamohammadi/Documents/Python%20Programming/Comp_8720_Advanced_AI/Assignment_2/Jupyter/kmeans.ipynb#W2sZmlsZQ%3D%3D?line=16'>17</a>\u001b[0m instanceKm\u001b[39m.\u001b[39mprocess()\n",
      "File \u001b[0;32m/opt/homebrew/Caskroom/miniforge/base/envs/tensor-metal/lib/python3.8/site-packages/pyclustering/cluster/kmeans.py:350\u001b[0m, in \u001b[0;36mkmeans.__init__\u001b[0;34m(self, data, initial_centers, tolerance, ccore, **kwargs)\u001b[0m\n\u001b[1;32m    348\u001b[0m \u001b[39mself\u001b[39m\u001b[39m.\u001b[39m__ccore \u001b[39m=\u001b[39m ccore \u001b[39mand\u001b[39;00m \u001b[39mself\u001b[39m\u001b[39m.\u001b[39m__metric\u001b[39m.\u001b[39mget_type() \u001b[39m!=\u001b[39m type_metric\u001b[39m.\u001b[39mUSER_DEFINED\n\u001b[1;32m    349\u001b[0m \u001b[39mif\u001b[39;00m \u001b[39mself\u001b[39m\u001b[39m.\u001b[39m__ccore \u001b[39mis\u001b[39;00m \u001b[39mTrue\u001b[39;00m:\n\u001b[0;32m--> 350\u001b[0m     \u001b[39mself\u001b[39m\u001b[39m.\u001b[39m__ccore \u001b[39m=\u001b[39m ccore_library\u001b[39m.\u001b[39;49mworkable()\n\u001b[1;32m    352\u001b[0m \u001b[39mself\u001b[39m\u001b[39m.\u001b[39m__verify_arguments()\n",
      "File \u001b[0;32m/opt/homebrew/Caskroom/miniforge/base/envs/tensor-metal/lib/python3.8/site-packages/pyclustering/core/wrapper.py:39\u001b[0m, in \u001b[0;36mccore_library.workable\u001b[0;34m()\u001b[0m\n\u001b[1;32m     36\u001b[0m \u001b[39m@staticmethod\u001b[39m\n\u001b[1;32m     37\u001b[0m \u001b[39mdef\u001b[39;00m \u001b[39mworkable\u001b[39m():\n\u001b[1;32m     38\u001b[0m     \u001b[39mif\u001b[39;00m \u001b[39mnot\u001b[39;00m ccore_library\u001b[39m.\u001b[39m__initialized:\n\u001b[0;32m---> 39\u001b[0m         ccore_library\u001b[39m.\u001b[39;49mget()\n\u001b[1;32m     41\u001b[0m     \u001b[39mreturn\u001b[39;00m ccore_library\u001b[39m.\u001b[39m__workable\n",
      "File \u001b[0;32m/opt/homebrew/Caskroom/miniforge/base/envs/tensor-metal/lib/python3.8/site-packages/pyclustering/core/wrapper.py:31\u001b[0m, in \u001b[0;36mccore_library.get\u001b[0;34m()\u001b[0m\n\u001b[1;32m     28\u001b[0m \u001b[39m@staticmethod\u001b[39m\n\u001b[1;32m     29\u001b[0m \u001b[39mdef\u001b[39;00m \u001b[39mget\u001b[39m():\n\u001b[1;32m     30\u001b[0m     \u001b[39mif\u001b[39;00m \u001b[39mnot\u001b[39;00m ccore_library\u001b[39m.\u001b[39m__library:\n\u001b[0;32m---> 31\u001b[0m         ccore_library\u001b[39m.\u001b[39;49minitialize()\n\u001b[1;32m     33\u001b[0m     \u001b[39mreturn\u001b[39;00m ccore_library\u001b[39m.\u001b[39m__library\n",
      "File \u001b[0;32m/opt/homebrew/Caskroom/miniforge/base/envs/tensor-metal/lib/python3.8/site-packages/pyclustering/core/wrapper.py:63\u001b[0m, in \u001b[0;36mccore_library.initialize\u001b[0;34m()\u001b[0m\n\u001b[1;32m     56\u001b[0m     \u001b[39mprint\u001b[39m(\u001b[39m\"\u001b[39m\u001b[39mThe pyclustering ccore is not found (expected core location: \u001b[39m\u001b[39m'\u001b[39m\u001b[39m\"\u001b[39m \u001b[39m+\u001b[39m PATH_PYCLUSTERING_CCORE_LIBRARY \u001b[39m+\u001b[39m \u001b[39m\"\u001b[39m\u001b[39m'\u001b[39m\u001b[39m).\u001b[39m\u001b[39m\\n\u001b[39;00m\u001b[39m\"\u001b[39m \u001b[39m+\u001b[39m \n\u001b[1;32m     57\u001b[0m           \u001b[39m\"\u001b[39m\u001b[39mProbably library has not been successfully installed (\u001b[39m\u001b[39m'\u001b[39m\u001b[39m\"\u001b[39m \u001b[39m+\u001b[39m sys\u001b[39m.\u001b[39mplatform \u001b[39m+\u001b[39m \u001b[39m\"\u001b[39m\u001b[39m'\u001b[39m\u001b[39m, \u001b[39m\u001b[39m'\u001b[39m\u001b[39m\"\u001b[39m \u001b[39m+\u001b[39m platform\u001b[39m.\u001b[39marchitecture()[\u001b[39m0\u001b[39m] \u001b[39m+\u001b[39m \u001b[39m\"\u001b[39m\u001b[39m'\u001b[39m\u001b[39m).\u001b[39m\u001b[39m\\n\u001b[39;00m\u001b[39m\"\u001b[39m \u001b[39m+\u001b[39m \n\u001b[1;32m     58\u001b[0m           \u001b[39m\"\u001b[39m\u001b[39mFalling back on python implementation.\u001b[39m\u001b[39m\\n\u001b[39;00m\u001b[39m\"\u001b[39m \u001b[39m+\u001b[39m\n\u001b[1;32m     59\u001b[0m           \u001b[39m\"\u001b[39m\u001b[39mFor more information, contact \u001b[39m\u001b[39m'\u001b[39m\u001b[39mpyclustering@yandex.ru\u001b[39m\u001b[39m'\u001b[39m\u001b[39m.\u001b[39m\u001b[39m\"\u001b[39m)\n\u001b[1;32m     61\u001b[0m     \u001b[39mreturn\u001b[39;00m \u001b[39mNone\u001b[39;00m\n\u001b[0;32m---> 63\u001b[0m ccore_library\u001b[39m.\u001b[39m__library \u001b[39m=\u001b[39m cdll\u001b[39m.\u001b[39;49mLoadLibrary(PATH_PYCLUSTERING_CCORE_LIBRARY)\n\u001b[1;32m     64\u001b[0m \u001b[39mif\u001b[39;00m ccore_library\u001b[39m.\u001b[39m__check_library_integrity() \u001b[39mis\u001b[39;00m \u001b[39mFalse\u001b[39;00m:\n\u001b[1;32m     65\u001b[0m     \u001b[39mprint\u001b[39m(\u001b[39m\"\u001b[39m\u001b[39mImpossible to mark ccore as workable due to compatibility issues \u001b[39m\u001b[39m\"\u001b[39m \u001b[39m+\u001b[39m\n\u001b[1;32m     66\u001b[0m           \u001b[39m\"\u001b[39m\u001b[39m(\u001b[39m\u001b[39m'\u001b[39m\u001b[39m\"\u001b[39m \u001b[39m+\u001b[39m sys\u001b[39m.\u001b[39mplatform \u001b[39m+\u001b[39m \u001b[39m\"\u001b[39m\u001b[39m'\u001b[39m\u001b[39m, \u001b[39m\u001b[39m'\u001b[39m\u001b[39m\"\u001b[39m \u001b[39m+\u001b[39m platform\u001b[39m.\u001b[39marchitecture()[\u001b[39m0\u001b[39m] \u001b[39m+\u001b[39m \u001b[39m\"\u001b[39m\u001b[39m'\u001b[39m\u001b[39m).\u001b[39m\u001b[39m\\n\u001b[39;00m\u001b[39m\"\u001b[39m \u001b[39m+\u001b[39m \n\u001b[1;32m     67\u001b[0m           \u001b[39m\"\u001b[39m\u001b[39mFalling back on python implementation.\u001b[39m\u001b[39m\\n\u001b[39;00m\u001b[39m\"\u001b[39m \u001b[39m+\u001b[39m\n\u001b[1;32m     68\u001b[0m           \u001b[39m\"\u001b[39m\u001b[39mFor more information, contact \u001b[39m\u001b[39m'\u001b[39m\u001b[39mpyclustering@yandex.ru\u001b[39m\u001b[39m'\u001b[39m\u001b[39m.\u001b[39m\u001b[39m\"\u001b[39m)\n",
      "File \u001b[0;32m/opt/homebrew/Caskroom/miniforge/base/envs/tensor-metal/lib/python3.8/ctypes/__init__.py:451\u001b[0m, in \u001b[0;36mLibraryLoader.LoadLibrary\u001b[0;34m(self, name)\u001b[0m\n\u001b[1;32m    450\u001b[0m \u001b[39mdef\u001b[39;00m \u001b[39mLoadLibrary\u001b[39m(\u001b[39mself\u001b[39m, name):\n\u001b[0;32m--> 451\u001b[0m     \u001b[39mreturn\u001b[39;00m \u001b[39mself\u001b[39;49m\u001b[39m.\u001b[39;49m_dlltype(name)\n",
      "File \u001b[0;32m/opt/homebrew/Caskroom/miniforge/base/envs/tensor-metal/lib/python3.8/ctypes/__init__.py:373\u001b[0m, in \u001b[0;36mCDLL.__init__\u001b[0;34m(self, name, mode, handle, use_errno, use_last_error, winmode)\u001b[0m\n\u001b[1;32m    370\u001b[0m \u001b[39mself\u001b[39m\u001b[39m.\u001b[39m_FuncPtr \u001b[39m=\u001b[39m _FuncPtr\n\u001b[1;32m    372\u001b[0m \u001b[39mif\u001b[39;00m handle \u001b[39mis\u001b[39;00m \u001b[39mNone\u001b[39;00m:\n\u001b[0;32m--> 373\u001b[0m     \u001b[39mself\u001b[39m\u001b[39m.\u001b[39m_handle \u001b[39m=\u001b[39m _dlopen(\u001b[39mself\u001b[39;49m\u001b[39m.\u001b[39;49m_name, mode)\n\u001b[1;32m    374\u001b[0m \u001b[39melse\u001b[39;00m:\n\u001b[1;32m    375\u001b[0m     \u001b[39mself\u001b[39m\u001b[39m.\u001b[39m_handle \u001b[39m=\u001b[39m handle\n",
      "\u001b[0;31mOSError\u001b[0m: dlopen(/opt/homebrew/Caskroom/miniforge/base/envs/tensor-metal/lib/python3.8/site-packages/pyclustering/core/64-bit/macos/libpyclustering.so, 0x0006): tried: '/opt/homebrew/Caskroom/miniforge/base/envs/tensor-metal/lib/python3.8/site-packages/pyclustering/core/64-bit/macos/libpyclustering.so' (mach-o file, but is an incompatible architecture (have 'x86_64', need 'arm64')), '/System/Volumes/Preboot/Cryptexes/OS/opt/homebrew/Caskroom/miniforge/base/envs/tensor-metal/lib/python3.8/site-packages/pyclustering/core/64-bit/macos/libpyclustering.so' (no such file), '/opt/homebrew/Caskroom/miniforge/base/envs/tensor-metal/lib/python3.8/site-packages/pyclustering/core/64-bit/macos/libpyclustering.so' (mach-o file, but is an incompatible architecture (have 'x86_64', need 'arm64'))"
     ]
    }
   ],
   "source": [
    "from pyclustering.cluster.center_initializer import random_center_initializer\n",
    "from pyclustering.cluster.encoder import cluster_encoder\n",
    "from pyclustering.cluster.kmeans import kmeans\n",
    "from pyclustering.utils.metric import distance_metric\n",
    "\n",
    "\n",
    "# define dictionary for distance measures\n",
    "distance_measures = {'euclidean': 0, 'squared euclidean': 1, 'manhattan': 2, 'chebyshev': 3, \n",
    "                    'canberra': 5, 'chi-square': 6}\n",
    "\n",
    "# function defined to compute purity score using pyclustering for various distance measures\n",
    "def pyPurity(dist_measure):\n",
    "    initial_centers = random_center_initializer(X, 3, random_state=5).initialize()\n",
    "    # instance created for respective distance metric\n",
    "    instanceKm = kmeans(X, initial_centers=initial_centers, metric=distance_metric(dist_measure))\n",
    "    # perform cluster analysis\n",
    "    instanceKm.process()\n",
    "    # cluster analysis results - clusters and centers\n",
    "    pyClusters = instanceKm.get_clusters()\n",
    "    pyCenters = instanceKm.get_centers()\n",
    "    # enumerate encoding type to index labeling to get labels\n",
    "    pyEncoding = instanceKm.get_cluster_encoding()\n",
    "    pyEncoder = cluster_encoder(pyEncoding, pyClusters, X)\n",
    "    pyLabels = pyEncoder.set_encoding(0).get_clusters()\n",
    "    # function purity score is defined in previous section\n",
    "    return purity_score(y, pyLabels)\n",
    "\n",
    "# print results\n",
    "for measure, value in distance_measures.items():\n",
    "    print(f\"The purity score for {measure} distance is {round(pyPurity(value)*100, 2)}%\")\n",
    " "
   ]
  }
 ],
 "metadata": {
  "kernelspec": {
   "display_name": "tensor-metal",
   "language": "python",
   "name": "python3"
  },
  "language_info": {
   "codemirror_mode": {
    "name": "ipython",
    "version": 3
   },
   "file_extension": ".py",
   "mimetype": "text/x-python",
   "name": "python",
   "nbconvert_exporter": "python",
   "pygments_lexer": "ipython3",
   "version": "3.8.15"
  },
  "orig_nbformat": 4,
  "vscode": {
   "interpreter": {
    "hash": "be39e6169c1b31d00ea7efb485c56e5eb1013badc1c0c29800ed58f373877fa8"
   }
  }
 },
 "nbformat": 4,
 "nbformat_minor": 2
}
