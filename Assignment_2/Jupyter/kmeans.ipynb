{
 "cells": [
  {
   "cell_type": "code",
   "execution_count": 11,
   "metadata": {},
   "outputs": [
    {
     "name": "stdout",
     "output_type": "stream",
     "text": [
      "Requirement already satisfied: pyclustering in /opt/homebrew/Caskroom/miniforge/base/envs/tensor-metal/lib/python3.8/site-packages (0.10.1.2)\n",
      "Requirement already satisfied: Pillow>=5.2.0 in /opt/homebrew/Caskroom/miniforge/base/envs/tensor-metal/lib/python3.8/site-packages (from pyclustering) (9.4.0)\n",
      "Requirement already satisfied: scipy>=1.1.0 in /opt/homebrew/Caskroom/miniforge/base/envs/tensor-metal/lib/python3.8/site-packages (from pyclustering) (1.10.0)\n",
      "Requirement already satisfied: matplotlib>=3.0.0 in /opt/homebrew/Caskroom/miniforge/base/envs/tensor-metal/lib/python3.8/site-packages (from pyclustering) (3.5.2)\n",
      "Requirement already satisfied: numpy>=1.15.2 in /opt/homebrew/Caskroom/miniforge/base/envs/tensor-metal/lib/python3.8/site-packages (from pyclustering) (1.22.4)\n",
      "Requirement already satisfied: pyparsing>=2.2.1 in /opt/homebrew/Caskroom/miniforge/base/envs/tensor-metal/lib/python3.8/site-packages (from matplotlib>=3.0.0->pyclustering) (3.0.9)\n",
      "Requirement already satisfied: cycler>=0.10 in /opt/homebrew/Caskroom/miniforge/base/envs/tensor-metal/lib/python3.8/site-packages (from matplotlib>=3.0.0->pyclustering) (0.11.0)\n",
      "Requirement already satisfied: python-dateutil>=2.7 in /opt/homebrew/Caskroom/miniforge/base/envs/tensor-metal/lib/python3.8/site-packages (from matplotlib>=3.0.0->pyclustering) (2.8.2)\n",
      "Requirement already satisfied: fonttools>=4.22.0 in /opt/homebrew/Caskroom/miniforge/base/envs/tensor-metal/lib/python3.8/site-packages (from matplotlib>=3.0.0->pyclustering) (4.38.0)\n",
      "Requirement already satisfied: packaging>=20.0 in /opt/homebrew/Caskroom/miniforge/base/envs/tensor-metal/lib/python3.8/site-packages (from matplotlib>=3.0.0->pyclustering) (23.0)\n",
      "Requirement already satisfied: kiwisolver>=1.0.1 in /opt/homebrew/Caskroom/miniforge/base/envs/tensor-metal/lib/python3.8/site-packages (from matplotlib>=3.0.0->pyclustering) (1.4.4)\n",
      "Requirement already satisfied: six>=1.5 in /opt/homebrew/Caskroom/miniforge/base/envs/tensor-metal/lib/python3.8/site-packages (from python-dateutil>=2.7->matplotlib>=3.0.0->pyclustering) (1.16.0)\n"
     ]
    }
   ],
   "source": [
    "!pip install pyclustering\n"
   ]
  },
  {
   "cell_type": "code",
   "execution_count": 24,
   "metadata": {},
   "outputs": [
    {
     "name": "stdout",
     "output_type": "stream",
     "text": [
      "circles0.3.csv\n",
      "halfkernel.csv\n",
      "moons1.csv\n",
      "spiral1.csv\n",
      "twogaussians33.csv\n",
      "twogaussians42.ipynb\n"
     ]
    },
    {
     "ename": "ParserError",
     "evalue": "Error tokenizing data. C error: Expected 1 fields in line 4, saw 2\n",
     "output_type": "error",
     "traceback": [
      "\u001b[0;31m---------------------------------------------------------------------------\u001b[0m",
      "\u001b[0;31mParserError\u001b[0m                               Traceback (most recent call last)",
      "\u001b[1;32m/Users/mustafamohammadi/Documents/Python Programming/Comp_8720_Advanced_AI/Assignment_2/Jupyter/kmeans.ipynb Cell 2\u001b[0m in \u001b[0;36m<cell line: 7>\u001b[0;34m()\u001b[0m\n\u001b[1;32m      <a href='vscode-notebook-cell:/Users/mustafamohammadi/Documents/Python%20Programming/Comp_8720_Advanced_AI/Assignment_2/Jupyter/kmeans.ipynb#W1sZmlsZQ%3D%3D?line=6'>7</a>\u001b[0m \u001b[39mfor\u001b[39;00m _, i \u001b[39min\u001b[39;00m \u001b[39menumerate\u001b[39m(dataset_names):\n\u001b[1;32m      <a href='vscode-notebook-cell:/Users/mustafamohammadi/Documents/Python%20Programming/Comp_8720_Advanced_AI/Assignment_2/Jupyter/kmeans.ipynb#W1sZmlsZQ%3D%3D?line=7'>8</a>\u001b[0m     \u001b[39mprint\u001b[39m(i)\n\u001b[0;32m----> <a href='vscode-notebook-cell:/Users/mustafamohammadi/Documents/Python%20Programming/Comp_8720_Advanced_AI/Assignment_2/Jupyter/kmeans.ipynb#W1sZmlsZQ%3D%3D?line=8'>9</a>\u001b[0m     dataset \u001b[39m=\u001b[39m pd\u001b[39m.\u001b[39;49mread_csv(\u001b[39mstr\u001b[39;49m(i))\n\u001b[1;32m     <a href='vscode-notebook-cell:/Users/mustafamohammadi/Documents/Python%20Programming/Comp_8720_Advanced_AI/Assignment_2/Jupyter/kmeans.ipynb#W1sZmlsZQ%3D%3D?line=9'>10</a>\u001b[0m     X \u001b[39m=\u001b[39m dataset\u001b[39m.\u001b[39miloc[:, :\u001b[39m-\u001b[39m\u001b[39m1\u001b[39m]\u001b[39m.\u001b[39mvalues\n\u001b[1;32m     <a href='vscode-notebook-cell:/Users/mustafamohammadi/Documents/Python%20Programming/Comp_8720_Advanced_AI/Assignment_2/Jupyter/kmeans.ipynb#W1sZmlsZQ%3D%3D?line=10'>11</a>\u001b[0m     y \u001b[39m=\u001b[39m dataset\u001b[39m.\u001b[39miloc[:, \u001b[39m-\u001b[39m\u001b[39m1\u001b[39m]\u001b[39m.\u001b[39mvalues\n",
      "File \u001b[0;32m/opt/homebrew/Caskroom/miniforge/base/envs/tensor-metal/lib/python3.8/site-packages/pandas/util/_decorators.py:311\u001b[0m, in \u001b[0;36mdeprecate_nonkeyword_arguments.<locals>.decorate.<locals>.wrapper\u001b[0;34m(*args, **kwargs)\u001b[0m\n\u001b[1;32m    305\u001b[0m \u001b[39mif\u001b[39;00m \u001b[39mlen\u001b[39m(args) \u001b[39m>\u001b[39m num_allow_args:\n\u001b[1;32m    306\u001b[0m     warnings\u001b[39m.\u001b[39mwarn(\n\u001b[1;32m    307\u001b[0m         msg\u001b[39m.\u001b[39mformat(arguments\u001b[39m=\u001b[39marguments),\n\u001b[1;32m    308\u001b[0m         \u001b[39mFutureWarning\u001b[39;00m,\n\u001b[1;32m    309\u001b[0m         stacklevel\u001b[39m=\u001b[39mstacklevel,\n\u001b[1;32m    310\u001b[0m     )\n\u001b[0;32m--> 311\u001b[0m \u001b[39mreturn\u001b[39;00m func(\u001b[39m*\u001b[39;49margs, \u001b[39m*\u001b[39;49m\u001b[39m*\u001b[39;49mkwargs)\n",
      "File \u001b[0;32m/opt/homebrew/Caskroom/miniforge/base/envs/tensor-metal/lib/python3.8/site-packages/pandas/io/parsers/readers.py:680\u001b[0m, in \u001b[0;36mread_csv\u001b[0;34m(filepath_or_buffer, sep, delimiter, header, names, index_col, usecols, squeeze, prefix, mangle_dupe_cols, dtype, engine, converters, true_values, false_values, skipinitialspace, skiprows, skipfooter, nrows, na_values, keep_default_na, na_filter, verbose, skip_blank_lines, parse_dates, infer_datetime_format, keep_date_col, date_parser, dayfirst, cache_dates, iterator, chunksize, compression, thousands, decimal, lineterminator, quotechar, quoting, doublequote, escapechar, comment, encoding, encoding_errors, dialect, error_bad_lines, warn_bad_lines, on_bad_lines, delim_whitespace, low_memory, memory_map, float_precision, storage_options)\u001b[0m\n\u001b[1;32m    665\u001b[0m kwds_defaults \u001b[39m=\u001b[39m _refine_defaults_read(\n\u001b[1;32m    666\u001b[0m     dialect,\n\u001b[1;32m    667\u001b[0m     delimiter,\n\u001b[0;32m   (...)\u001b[0m\n\u001b[1;32m    676\u001b[0m     defaults\u001b[39m=\u001b[39m{\u001b[39m\"\u001b[39m\u001b[39mdelimiter\u001b[39m\u001b[39m\"\u001b[39m: \u001b[39m\"\u001b[39m\u001b[39m,\u001b[39m\u001b[39m\"\u001b[39m},\n\u001b[1;32m    677\u001b[0m )\n\u001b[1;32m    678\u001b[0m kwds\u001b[39m.\u001b[39mupdate(kwds_defaults)\n\u001b[0;32m--> 680\u001b[0m \u001b[39mreturn\u001b[39;00m _read(filepath_or_buffer, kwds)\n",
      "File \u001b[0;32m/opt/homebrew/Caskroom/miniforge/base/envs/tensor-metal/lib/python3.8/site-packages/pandas/io/parsers/readers.py:581\u001b[0m, in \u001b[0;36m_read\u001b[0;34m(filepath_or_buffer, kwds)\u001b[0m\n\u001b[1;32m    578\u001b[0m     \u001b[39mreturn\u001b[39;00m parser\n\u001b[1;32m    580\u001b[0m \u001b[39mwith\u001b[39;00m parser:\n\u001b[0;32m--> 581\u001b[0m     \u001b[39mreturn\u001b[39;00m parser\u001b[39m.\u001b[39;49mread(nrows)\n",
      "File \u001b[0;32m/opt/homebrew/Caskroom/miniforge/base/envs/tensor-metal/lib/python3.8/site-packages/pandas/io/parsers/readers.py:1254\u001b[0m, in \u001b[0;36mTextFileReader.read\u001b[0;34m(self, nrows)\u001b[0m\n\u001b[1;32m   1252\u001b[0m nrows \u001b[39m=\u001b[39m validate_integer(\u001b[39m\"\u001b[39m\u001b[39mnrows\u001b[39m\u001b[39m\"\u001b[39m, nrows)\n\u001b[1;32m   1253\u001b[0m \u001b[39mtry\u001b[39;00m:\n\u001b[0;32m-> 1254\u001b[0m     index, columns, col_dict \u001b[39m=\u001b[39m \u001b[39mself\u001b[39;49m\u001b[39m.\u001b[39;49m_engine\u001b[39m.\u001b[39;49mread(nrows)\n\u001b[1;32m   1255\u001b[0m \u001b[39mexcept\u001b[39;00m \u001b[39mException\u001b[39;00m:\n\u001b[1;32m   1256\u001b[0m     \u001b[39mself\u001b[39m\u001b[39m.\u001b[39mclose()\n",
      "File \u001b[0;32m/opt/homebrew/Caskroom/miniforge/base/envs/tensor-metal/lib/python3.8/site-packages/pandas/io/parsers/c_parser_wrapper.py:225\u001b[0m, in \u001b[0;36mCParserWrapper.read\u001b[0;34m(self, nrows)\u001b[0m\n\u001b[1;32m    223\u001b[0m \u001b[39mtry\u001b[39;00m:\n\u001b[1;32m    224\u001b[0m     \u001b[39mif\u001b[39;00m \u001b[39mself\u001b[39m\u001b[39m.\u001b[39mlow_memory:\n\u001b[0;32m--> 225\u001b[0m         chunks \u001b[39m=\u001b[39m \u001b[39mself\u001b[39;49m\u001b[39m.\u001b[39;49m_reader\u001b[39m.\u001b[39;49mread_low_memory(nrows)\n\u001b[1;32m    226\u001b[0m         \u001b[39m# destructive to chunks\u001b[39;00m\n\u001b[1;32m    227\u001b[0m         data \u001b[39m=\u001b[39m _concatenate_chunks(chunks)\n",
      "File \u001b[0;32m/opt/homebrew/Caskroom/miniforge/base/envs/tensor-metal/lib/python3.8/site-packages/pandas/_libs/parsers.pyx:805\u001b[0m, in \u001b[0;36mpandas._libs.parsers.TextReader.read_low_memory\u001b[0;34m()\u001b[0m\n",
      "File \u001b[0;32m/opt/homebrew/Caskroom/miniforge/base/envs/tensor-metal/lib/python3.8/site-packages/pandas/_libs/parsers.pyx:861\u001b[0m, in \u001b[0;36mpandas._libs.parsers.TextReader._read_rows\u001b[0;34m()\u001b[0m\n",
      "File \u001b[0;32m/opt/homebrew/Caskroom/miniforge/base/envs/tensor-metal/lib/python3.8/site-packages/pandas/_libs/parsers.pyx:847\u001b[0m, in \u001b[0;36mpandas._libs.parsers.TextReader._tokenize_rows\u001b[0;34m()\u001b[0m\n",
      "File \u001b[0;32m/opt/homebrew/Caskroom/miniforge/base/envs/tensor-metal/lib/python3.8/site-packages/pandas/_libs/parsers.pyx:1960\u001b[0m, in \u001b[0;36mpandas._libs.parsers.raise_parser_error\u001b[0;34m()\u001b[0m\n",
      "\u001b[0;31mParserError\u001b[0m: Error tokenizing data. C error: Expected 1 fields in line 4, saw 2\n"
     ]
    }
   ],
   "source": [
    "import pandas as pd\n",
    "\n",
    "# moon dataset\n",
    "dataset_names = ['circles0.3.csv', 'halfkernel.csv', 'moons1.csv', 'spiral1.csv', 'twogaussians33.csv', 'twogaussians42.ipynb']\n",
    "datasets_ = []\n",
    "\n",
    "for _, i in enumerate(dataset_names):\n",
    "    print(i)\n",
    "    dataset = pd.read_csv(str(i))\n",
    "    X = dataset.iloc[:, :-1].values\n",
    "    y = dataset.iloc[:, -1].values\n",
    "    datasets_.append((i, X, y))"
   ]
  },
  {
   "cell_type": "code",
   "execution_count": 25,
   "metadata": {},
   "outputs": [
    {
     "data": {
      "text/plain": [
       "5"
      ]
     },
     "execution_count": 25,
     "metadata": {},
     "output_type": "execute_result"
    }
   ],
   "source": [
    "len(datasets_)"
   ]
  },
  {
   "cell_type": "code",
   "execution_count": 35,
   "metadata": {},
   "outputs": [
    {
     "name": "stdout",
     "output_type": "stream",
     "text": [
      "circles0.3.csv\n"
     ]
    }
   ],
   "source": [
    "print(datasets_[0][0])"
   ]
  },
  {
   "cell_type": "code",
   "execution_count": null,
   "metadata": {},
   "outputs": [],
   "source": []
  },
  {
   "cell_type": "code",
   "execution_count": 13,
   "metadata": {},
   "outputs": [],
   "source": [
    "from sklearn.metrics import accuracy_score\n",
    "import numpy as np\n",
    "\n",
    "def purity_score(y_true, y_pred):\n",
    "    \"\"\"Purity score\n",
    "\n",
    "    To compute purity, each cluster is assigned to the class which is most frequent \n",
    "    in the cluster [1], and then the accuracy of this assignment is measured by counting \n",
    "    the number of correctly assigned documents and dividing by the number of documents.\n",
    "    We suppose here that the ground truth labels are integers, the same with the predicted clusters i.e\n",
    "    the clusters index.\n",
    "\n",
    "    Args:\n",
    "        y_true(np.ndarray): n*1 matrix Ground truth labels\n",
    "        y_pred(np.ndarray): n*1 matrix Predicted clusters\n",
    "    \n",
    "    Returns:\n",
    "        float: Purity score\n",
    "    \n",
    "    References:\n",
    "        [1] https://nlp.stanford.edu/IR-book/html/htmledition/evaluation-of-clustering-1.html\n",
    "    \"\"\"\n",
    "    # matrix which will hold the majority-voted labels\n",
    "    y_voted_labels = np.zeros(y_true.shape)\n",
    "    # Ordering labels\n",
    "    ## Labels might be missing e.g with set like 0,2 where 1 is missing\n",
    "    ## First find the unique labels, then map the labels to an ordered set\n",
    "    ## 0,2 should become 0,1\n",
    "    labels = np.unique(y_true)\n",
    "    ordered_labels = np.arange(labels.shape[0])\n",
    "    for k in range(labels.shape[0]):\n",
    "        y_true[y_true==labels[k]] = ordered_labels[k]\n",
    "    # Update unique labels\n",
    "    labels = np.unique(y_true)\n",
    "    # We set the number of bins to be n_classes+2 so that \n",
    "    # we count the actual occurence of classes between two consecutive bin\n",
    "    # the bigger being excluded [bin_i, bin_i+1[\n",
    "    bins = np.concatenate((labels, [np.max(labels)+1]), axis=0)\n",
    "\n",
    "    for cluster in np.unique(y_pred):\n",
    "        hist, _ = np.histogram(y_true[y_pred==cluster], bins=bins)\n",
    "        # Find the most present label in the cluster\n",
    "        winner = np.argmax(hist)\n",
    "        y_voted_labels[y_pred==cluster] = winner\n",
    "    \n",
    "    return accuracy_score(y_true, y_voted_labels)"
   ]
  },
  {
   "cell_type": "code",
   "execution_count": 4,
   "metadata": {},
   "outputs": [
    {
     "ename": "NameError",
     "evalue": "name 'distance_measures' is not defined",
     "output_type": "error",
     "traceback": [
      "\u001b[0;31m---------------------------------------------------------------------------\u001b[0m",
      "\u001b[0;31mNameError\u001b[0m                                 Traceback (most recent call last)",
      "\u001b[1;32m/Users/mustafamohammadi/Documents/Python Programming/Comp_8720_Advanced_AI/Assignment_2/Jupyter/kmeans.ipynb Cell 3\u001b[0m in \u001b[0;36m<cell line: 19>\u001b[0;34m()\u001b[0m\n\u001b[1;32m     <a href='vscode-notebook-cell:/Users/mustafamohammadi/Documents/Python%20Programming/Comp_8720_Advanced_AI/Assignment_2/Jupyter/kmeans.ipynb#W3sZmlsZQ%3D%3D?line=15'>16</a>\u001b[0m     \u001b[39mreturn\u001b[39;00m purity_score(y, pyLabels)\n\u001b[1;32m     <a href='vscode-notebook-cell:/Users/mustafamohammadi/Documents/Python%20Programming/Comp_8720_Advanced_AI/Assignment_2/Jupyter/kmeans.ipynb#W3sZmlsZQ%3D%3D?line=17'>18</a>\u001b[0m \u001b[39m# print results\u001b[39;00m\n\u001b[0;32m---> <a href='vscode-notebook-cell:/Users/mustafamohammadi/Documents/Python%20Programming/Comp_8720_Advanced_AI/Assignment_2/Jupyter/kmeans.ipynb#W3sZmlsZQ%3D%3D?line=18'>19</a>\u001b[0m \u001b[39mfor\u001b[39;00m measure, value \u001b[39min\u001b[39;00m distance_measures\u001b[39m.\u001b[39mitems():\n\u001b[1;32m     <a href='vscode-notebook-cell:/Users/mustafamohammadi/Documents/Python%20Programming/Comp_8720_Advanced_AI/Assignment_2/Jupyter/kmeans.ipynb#W3sZmlsZQ%3D%3D?line=19'>20</a>\u001b[0m     \u001b[39mprint\u001b[39m(\u001b[39mf\u001b[39m\u001b[39m\"\u001b[39m\u001b[39mThe purity score for \u001b[39m\u001b[39m{\u001b[39;00mmeasure\u001b[39m}\u001b[39;00m\u001b[39m distance is \u001b[39m\u001b[39m{\u001b[39;00m\u001b[39mround\u001b[39m(pyPurity(value)\u001b[39m*\u001b[39m\u001b[39m100\u001b[39m, \u001b[39m2\u001b[39m)\u001b[39m}\u001b[39;00m\u001b[39m%\u001b[39m\u001b[39m\"\u001b[39m)\n",
      "\u001b[0;31mNameError\u001b[0m: name 'distance_measures' is not defined"
     ]
    }
   ],
   "source": [
    "# function defined to compute purity score using pyclustering for various distance measures\n"
   ]
  },
  {
   "cell_type": "code",
   "execution_count": 41,
   "metadata": {},
   "outputs": [
    {
     "name": "stdout",
     "output_type": "stream",
     "text": [
      "DATASET:  circles0.3.csv\n",
      "The purity score for euclidean distance is 51.2%\n",
      "The purity score for squared euclidean distance is 51.7%\n",
      "The purity score for manhattan distance is 82.4%\n",
      "The purity score for chebyshev distance is 52.7%\n",
      "The purity score for canberra distance is 50.9%\n",
      "The purity score for chi-square distance is 50.2%\n",
      "DATASET:  halfkernel.csv\n",
      "The purity score for euclidean distance is 59.6%\n",
      "The purity score for squared euclidean distance is 59.6%\n",
      "The purity score for manhattan distance is 58.8%\n",
      "The purity score for chebyshev distance is 61.3%\n",
      "The purity score for canberra distance is 63.3%\n",
      "The purity score for chi-square distance is 63.4%\n",
      "DATASET:  moons1.csv\n",
      "The purity score for euclidean distance is 77.8%\n",
      "The purity score for squared euclidean distance is 77.8%\n",
      "The purity score for manhattan distance is 77.9%\n",
      "The purity score for chebyshev distance is 76.4%\n",
      "The purity score for canberra distance is 82.5%\n",
      "The purity score for chi-square distance is 82.0%\n",
      "DATASET:  spiral1.csv\n",
      "The purity score for euclidean distance is 64.4%\n",
      "The purity score for squared euclidean distance is 64.4%\n",
      "The purity score for manhattan distance is 66.4%\n",
      "The purity score for chebyshev distance is 66.7%\n",
      "The purity score for canberra distance is 67.7%\n",
      "The purity score for chi-square distance is 68.2%\n",
      "DATASET:  twogaussians33.csv\n",
      "The purity score for euclidean distance is 96.8%\n",
      "The purity score for squared euclidean distance is 96.2%\n",
      "The purity score for manhattan distance is 95.6%\n",
      "The purity score for chebyshev distance is 96.6%\n",
      "The purity score for canberra distance is 94.7%\n",
      "The purity score for chi-square distance is 93.7%\n"
     ]
    }
   ],
   "source": [
    "from pyclustering.cluster.center_initializer import random_center_initializer\n",
    "from pyclustering.cluster.encoder import cluster_encoder\n",
    "from pyclustering.cluster.kmeans import kmeans\n",
    "from pyclustering.utils.metric import distance_metric\n",
    "\n",
    "\n",
    "# define dictionary for distance measures\n",
    "distance_measures = {'euclidean': 0, 'squared euclidean': 1, 'manhattan': 2, 'chebyshev': 3, \n",
    "                    'canberra': 5, 'chi-square': 6}\n",
    "\n",
    "for _, dataset_data in enumerate(datasets_):\n",
    "    X = dataset_data[1]\n",
    "    y = dataset_data[2]\n",
    "    # function defined to compute purity score using pyclustering for various distance measures\n",
    "    def pyPurity(dist_measure):\n",
    "        initial_centers = random_center_initializer(X, 3, random_state=5).initialize()\n",
    "        # instance created for respective distance metric\n",
    "        instanceKm = kmeans(X, initial_centers=initial_centers, metric=distance_metric(dist_measure))\n",
    "        # perform cluster analysis\n",
    "        instanceKm.process()\n",
    "        # cluster analysis results - clusters and centers\n",
    "        pyClusters = instanceKm.get_clusters()\n",
    "        pyCenters = instanceKm.get_centers()\n",
    "        # enumerate encoding type to index labeling to get labels\n",
    "        pyEncoding = instanceKm.get_cluster_encoding()\n",
    "        pyEncoder = cluster_encoder(pyEncoding, pyClusters, X)\n",
    "        pyLabels = pyEncoder.set_encoding(0).get_clusters()\n",
    "        # function purity score is defined in previous section\n",
    "        return purity_score(y, pyLabels)\n",
    "\n",
    "    # print results\n",
    "    print('DATASET: ', dataset_data[0])\n",
    "    for measure, value in distance_measures.items():\n",
    "        print(f\"The purity score for {measure} distance is {round(pyPurity(value)*100, 2)}%\")\n",
    " "
   ]
  },
  {
   "cell_type": "code",
   "execution_count": null,
   "metadata": {},
   "outputs": [],
   "source": []
  }
 ],
 "metadata": {
  "kernelspec": {
   "display_name": "tensor-metal",
   "language": "python",
   "name": "python3"
  },
  "language_info": {
   "codemirror_mode": {
    "name": "ipython",
    "version": 3
   },
   "file_extension": ".py",
   "mimetype": "text/x-python",
   "name": "python",
   "nbconvert_exporter": "python",
   "pygments_lexer": "ipython3",
   "version": "3.8.15"
  },
  "orig_nbformat": 4,
  "vscode": {
   "interpreter": {
    "hash": "be39e6169c1b31d00ea7efb485c56e5eb1013badc1c0c29800ed58f373877fa8"
   }
  }
 },
 "nbformat": 4,
 "nbformat_minor": 2
}
