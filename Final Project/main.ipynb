{
 "cells": [
  {
   "cell_type": "code",
   "execution_count": 1,
   "metadata": {},
   "outputs": [],
   "source": [
    "import pandas as pd \n",
    "import matplotlib.pyplot as plt\n",
    "import seaborn as sn\n"
   ]
  },
  {
   "attachments": {},
   "cell_type": "markdown",
   "metadata": {},
   "source": [
    "## Load Dataset"
   ]
  },
  {
   "cell_type": "code",
   "execution_count": 2,
   "metadata": {},
   "outputs": [],
   "source": [
    "X = pd.read_csv(\"./Dataset/data.csv\")\n",
    "y = pd.read_csv(\"./Dataset/labels.csv\")"
   ]
  },
  {
   "cell_type": "code",
   "execution_count": 3,
   "metadata": {},
   "outputs": [
    {
     "name": "stdout",
     "output_type": "stream",
     "text": [
      "(801, 20532)\n",
      "(801, 2)\n",
      "  Class\n",
      "0  PRAD\n",
      "1  LUAD\n",
      "2  PRAD\n",
      "3  PRAD\n",
      "4  BRCA\n"
     ]
    }
   ],
   "source": [
    "print(X.shape)\n",
    "print(y.shape)\n",
    "X = X.iloc[:, 1:]\n",
    "y = y.iloc[:, 1:]\n",
    "print(y.head())"
   ]
  },
  {
   "cell_type": "code",
   "execution_count": 136,
   "metadata": {},
   "outputs": [],
   "source": [
    "from sklearn.preprocessing import LabelEncoder\n",
    "le = LabelEncoder()\n",
    "y = le.fit_transform(y)\n"
   ]
  },
  {
   "attachments": {},
   "cell_type": "markdown",
   "metadata": {},
   "source": [
    "## over sampling"
   ]
  },
  {
   "cell_type": "code",
   "execution_count": 137,
   "metadata": {},
   "outputs": [
    {
     "name": "stdout",
     "output_type": "stream",
     "text": [
      "(1500, 20531)\n",
      "(1500,)\n",
      "gene_0         128\n",
      "gene_1        1468\n",
      "gene_2        1492\n",
      "gene_3        1499\n",
      "gene_4        1498\n",
      "              ... \n",
      "gene_20526    1499\n",
      "gene_20527    1500\n",
      "gene_20528    1499\n",
      "gene_20529    1499\n",
      "gene_20530     253\n",
      "Length: 20531, dtype: int64\n"
     ]
    },
    {
     "ename": "AttributeError",
     "evalue": "'numpy.ndarray' object has no attribute 'nunique'",
     "output_type": "error",
     "traceback": [
      "\u001b[0;31m---------------------------------------------------------------------------\u001b[0m",
      "\u001b[0;31mAttributeError\u001b[0m                            Traceback (most recent call last)",
      "\u001b[1;32m/Users/mustafamohammadi/Documents/Python Programming/Comp_8720_Advanced_AI/Final Project/main.ipynb Cell 7\u001b[0m in \u001b[0;36m<cell line: 8>\u001b[0;34m()\u001b[0m\n\u001b[1;32m      <a href='vscode-notebook-cell:/Users/mustafamohammadi/Documents/Python%20Programming/Comp_8720_Advanced_AI/Final%20Project/main.ipynb#W6sZmlsZQ%3D%3D?line=5'>6</a>\u001b[0m \u001b[39mprint\u001b[39m(y\u001b[39m.\u001b[39mshape)\n\u001b[1;32m      <a href='vscode-notebook-cell:/Users/mustafamohammadi/Documents/Python%20Programming/Comp_8720_Advanced_AI/Final%20Project/main.ipynb#W6sZmlsZQ%3D%3D?line=6'>7</a>\u001b[0m \u001b[39mprint\u001b[39m(X\u001b[39m.\u001b[39mnunique())\n\u001b[0;32m----> <a href='vscode-notebook-cell:/Users/mustafamohammadi/Documents/Python%20Programming/Comp_8720_Advanced_AI/Final%20Project/main.ipynb#W6sZmlsZQ%3D%3D?line=7'>8</a>\u001b[0m \u001b[39mprint\u001b[39m(y\u001b[39m.\u001b[39;49mnunique())\n\u001b[1;32m      <a href='vscode-notebook-cell:/Users/mustafamohammadi/Documents/Python%20Programming/Comp_8720_Advanced_AI/Final%20Project/main.ipynb#W6sZmlsZQ%3D%3D?line=8'>9</a>\u001b[0m \u001b[39mprint\u001b[39m(y\u001b[39m.\u001b[39mvalue_counts())\n",
      "\u001b[0;31mAttributeError\u001b[0m: 'numpy.ndarray' object has no attribute 'nunique'"
     ]
    }
   ],
   "source": [
    "from imblearn.over_sampling import SMOTE\n",
    "over_sample = SMOTE()\n",
    "\n",
    "X, y = over_sample.fit_resample(X, y)\n",
    "print(X.shape)\n",
    "print(y.shape)\n",
    "print(X.nunique())\n",
    "print(y.nunique())\n",
    "print(y.value_counts())"
   ]
  },
  {
   "attachments": {},
   "cell_type": "markdown",
   "metadata": {},
   "source": [
    "### Analyzing dataset after oversampling to find out whether there is any sample with all zero features or not. And then plot it"
   ]
  },
  {
   "cell_type": "code",
   "execution_count": 138,
   "metadata": {},
   "outputs": [
    {
     "data": {
      "image/png": "[encoded data removed]",
      "text/plain": [
       "<Figure size 640x480 with 1 Axes>"
      ]
     },
     "metadata": {},
     "output_type": "display_data"
    }
   ],
   "source": [
    "plt.hist(X.isin([0, 0.0]).sum())\n",
    "plt.show()"
   ]
  },
  {
   "attachments": {},
   "cell_type": "markdown",
   "metadata": {},
   "source": [
    "## Normalization and getting out from NA features"
   ]
  },
  {
   "cell_type": "code",
   "execution_count": 98,
   "metadata": {},
   "outputs": [
    {
     "name": "stdout",
     "output_type": "stream",
     "text": [
      "(1500, 20531)\n",
      "(1500, 20531)\n",
      "(1500, 17444)\n"
     ]
    }
   ],
   "source": [
    "# Removing any NA samples.\n",
    "X_1 = X.dropna()\n",
    "print(X_1.shape)\n",
    "X_2_for_plot = X_1.dropna()\n",
    "print(X_2_for_plot.shape)\n",
    "X2_for_plot = X_2_for_plot.drop(columns=X_2_for_plot.columns[(X_2_for_plot == 0.0).sum()>500])\n",
    "print(X2_for_plot.shape)\n",
    "\n",
    "# normalizing data\n",
    "from sklearn.preprocessing import MinMaxScaler\n",
    "minmax_norm = MinMaxScaler()\n",
    "X_train_norm = minmax_norm.fit_transform(X_1)\n"
   ]
  },
  {
   "attachments": {},
   "cell_type": "markdown",
   "metadata": {},
   "source": [
    "### Feature selection\n",
    "The output of chi-score is a tupe of 2 seperate arrays. Its output is the most relevant features regarding to labels."
   ]
  },
  {
   "cell_type": "code",
   "execution_count": 139,
   "metadata": {},
   "outputs": [],
   "source": [
    "from sklearn.feature_selection import chi2, mutual_info_classif\n",
    "\n",
    "# chi_score = chi2(X_1, y)\n",
    "# info_gain = mutual_info_classif(X_1, y)\n",
    "chi_score = chi2(X_1, y)\n",
    "info_gain = mutual_info_classif(X_1, y)\n"
   ]
  },
  {
   "cell_type": "code",
   "execution_count": 140,
   "metadata": {},
   "outputs": [],
   "source": [
    "p_values = pd.Series(chi_score[1],index = X_2_for_plot.columns)\n",
    "p_values.sort_values(ascending = False , inplace = True)\n",
    "p_values_IG = pd.Series(info_gain, index = X_2_for_plot.columns)\n",
    "p_values_IG.sort_values(ascending = False, inplace= True)"
   ]
  },
  {
   "cell_type": "code",
   "execution_count": 141,
   "metadata": {},
   "outputs": [
    {
     "data": {
      "text/plain": [
       "<AxesSubplot:>"
      ]
     },
     "execution_count": 141,
     "metadata": {},
     "output_type": "execute_result"
    },
    {
     "data": {
      "image/png": "[encoded data removed]",
      "text/plain": [
       "<Figure size 640x480 with 1 Axes>"
      ]
     },
     "metadata": {},
     "output_type": "display_data"
    }
   ],
   "source": [
    "p_values.plot.bar()"
   ]
  },
  {
   "cell_type": "code",
   "execution_count": 142,
   "metadata": {},
   "outputs": [
    {
     "data": {
      "text/plain": [
       "<AxesSubplot:>"
      ]
     },
     "execution_count": 142,
     "metadata": {},
     "output_type": "execute_result"
    },
    {
     "data": {
      "image/png": "[encoded data removed]",
      "text/plain": [
       "<Figure size 640x480 with 1 Axes>"
      ]
     },
     "metadata": {},
     "output_type": "display_data"
    }
   ],
   "source": [
    "p_values_IG.plot.bar()"
   ]
  },
  {
   "attachments": {},
   "cell_type": "markdown",
   "metadata": {},
   "source": [
    "#### select the best features , default 500 compared to 20532 features"
   ]
  },
  {
   "cell_type": "code",
   "execution_count": 157,
   "metadata": {},
   "outputs": [
    {
     "name": "stdout",
     "output_type": "stream",
     "text": [
      "[[0.05449182 0.         0.04200754 ... 0.4637352  0.         0.07222589]\n",
      " [0.         0.15216606 0.         ... 0.         0.         0.        ]\n",
      " [0.15495099 0.         0.         ... 0.86971928 0.         0.        ]\n",
      " ...\n",
      " [0.         0.03386835 0.         ... 0.56060654 0.         0.        ]\n",
      " [0.18616025 0.         0.         ... 0.85500299 0.         0.        ]\n",
      " [0.02633793 0.         0.         ... 0.89757606 0.         0.04034613]]\n",
      "[[0.34025664 0.05561836 0.22258548 ... 0.75203608 0.11092581 0.        ]\n",
      " [0.34644394 0.13766989 0.28812022 ... 0.23190781 0.02245772 0.05624801]\n",
      " [0.03789654 0.12280483 0.35133176 ... 0.43750434 0.         0.13737933]\n",
      " ...\n",
      " [0.18004313 0.09810861 0.27202583 ... 0.70114948 0.         0.        ]\n",
      " [0.05605161 0.08324987 0.28701827 ... 0.75348605 0.         0.        ]\n",
      " [0.07662291 0.02688242 0.3533014  ... 0.75612212 0.         0.05290224]]\n"
     ]
    }
   ],
   "source": [
    "from sklearn.feature_selection import SelectKBest\n",
    "from mrmr import mrmr_classif\n",
    "\n",
    "chi2_selector = SelectKBest(chi2, k=50)\n",
    "X_chi_K_best = chi2_selector.fit_transform(X_train_norm, y)\n",
    "\n",
    "IG_selector = SelectKBest(mutual_info_classif, k=50)\n",
    "X_IG_K_best = IG_selector.fit_transform(X_train_norm, y=y)\n",
    "\n",
    "# mrmr_K_best = mrmr_classif(X_train_norm, y, K=100)\n",
    "\n",
    "print(X_chi_K_best)\n",
    "print(X_IG_K_best)\n",
    "# print(mrmr_K_best)\n"
   ]
  },
  {
   "cell_type": "code",
   "execution_count": 158,
   "metadata": {},
   "outputs": [
    {
     "name": "stdout",
     "output_type": "stream",
     "text": [
      "(1500, 50)\n",
      "(1500, 50)\n"
     ]
    }
   ],
   "source": [
    "print(X_IG_K_best.shape)\n",
    "print(X_chi_K_best.shape)"
   ]
  },
  {
   "attachments": {},
   "cell_type": "markdown",
   "metadata": {},
   "source": [
    "## Spliting dataset into train and test"
   ]
  },
  {
   "cell_type": "code",
   "execution_count": 159,
   "metadata": {},
   "outputs": [],
   "source": [
    "from sklearn.model_selection import train_test_split\n",
    "from sklearn.metrics import confusion_matrix, accuracy_score\n",
    "from sklearn.ensemble import RandomForestClassifier\n",
    "\n",
    "X_train_chi, X_test_chi, y_train_chi, y_test_chi = train_test_split(X_chi_K_best, y, test_size=0.2, random_state=42)\n",
    "X_train_IG, X_test_IG, y_train_IG, y_test_IG = train_test_split(X_IG_K_best, y, test_size=0.2, random_state=47)\n",
    "\n"
   ]
  },
  {
   "attachments": {},
   "cell_type": "markdown",
   "metadata": {},
   "source": [
    "# Calling Clustering methods\n"
   ]
  },
  {
   "cell_type": "code",
   "execution_count": null,
   "metadata": {},
   "outputs": [],
   "source": [
    "from Clustering_Methods import Clustering_Methods\n",
    "\n",
    "clustering = Clustering_Methods(\"dataset1\", \"a\", n_clusters=5 )\n",
    "\n",
    "models = clustering.adding_methods()\n",
    "print(\"Clustering Models:\", models)\n",
    "\n",
    "clustering.training_models(Models=models,\n",
    "                           x_train=X_train_chi,\n",
    "                           x_test=X_test_chi,\n",
    "                           y_train=y_train_chi,\n",
    "                           y_test=y_test_chi,\n",
    "                           dataset_name=\"ATCG_Chi_squared\")\n",
    "\n",
    "clustering.training_models(Models=models,\n",
    "                           x_train=X_train_IG,\n",
    "                           x_test=X_test_IG,\n",
    "                           y_train=y_train_IG,\n",
    "                           y_test=y_test_IG,\n",
    "                           dataset_name=\"ATCG_IG_squared\")"
   ]
  },
  {
   "cell_type": "code",
   "execution_count": 160,
   "metadata": {},
   "outputs": [
    {
     "data": {
      "text/html": [
       "<style>#sk-container-id-5 {color: black;background-color: white;}#sk-container-id-5 pre{padding: 0;}#sk-container-id-5 div.sk-toggleable {background-color: white;}#sk-container-id-5 label.sk-toggleable__label {cursor: pointer;display: block;width: 100%;margin-bottom: 0;padding: 0.3em;box-sizing: border-box;text-align: center;}#sk-container-id-5 label.sk-toggleable__label-arrow:before {content: \"▸\";float: left;margin-right: 0.25em;color: #696969;}#sk-container-id-5 label.sk-toggleable__label-arrow:hover:before {color: black;}#sk-container-id-5 div.sk-estimator:hover label.sk-toggleable__label-arrow:before {color: black;}#sk-container-id-5 div.sk-toggleable__content {max-height: 0;max-width: 0;overflow: hidden;text-align: left;background-color: #f0f8ff;}#sk-container-id-5 div.sk-toggleable__content pre {margin: 0.2em;color: black;border-radius: 0.25em;background-color: #f0f8ff;}#sk-container-id-5 input.sk-toggleable__control:checked~div.sk-toggleable__content {max-height: 200px;max-width: 100%;overflow: auto;}#sk-container-id-5 input.sk-toggleable__control:checked~label.sk-toggleable__label-arrow:before {content: \"▾\";}#sk-container-id-5 div.sk-estimator input.sk-toggleable__control:checked~label.sk-toggleable__label {background-color: #d4ebff;}#sk-container-id-5 div.sk-label input.sk-toggleable__control:checked~label.sk-toggleable__label {background-color: #d4ebff;}#sk-container-id-5 input.sk-hidden--visually {border: 0;clip: rect(1px 1px 1px 1px);clip: rect(1px, 1px, 1px, 1px);height: 1px;margin: -1px;overflow: hidden;padding: 0;position: absolute;width: 1px;}#sk-container-id-5 div.sk-estimator {font-family: monospace;background-color: #f0f8ff;border: 1px dotted black;border-radius: 0.25em;box-sizing: border-box;margin-bottom: 0.5em;}#sk-container-id-5 div.sk-estimator:hover {background-color: #d4ebff;}#sk-container-id-5 div.sk-parallel-item::after {content: \"\";width: 100%;border-bottom: 1px solid gray;flex-grow: 1;}#sk-container-id-5 div.sk-label:hover label.sk-toggleable__label {background-color: #d4ebff;}#sk-container-id-5 div.sk-serial::before {content: \"\";position: absolute;border-left: 1px solid gray;box-sizing: border-box;top: 0;bottom: 0;left: 50%;z-index: 0;}#sk-container-id-5 div.sk-serial {display: flex;flex-direction: column;align-items: center;background-color: white;padding-right: 0.2em;padding-left: 0.2em;position: relative;}#sk-container-id-5 div.sk-item {position: relative;z-index: 1;}#sk-container-id-5 div.sk-parallel {display: flex;align-items: stretch;justify-content: center;background-color: white;position: relative;}#sk-container-id-5 div.sk-item::before, #sk-container-id-5 div.sk-parallel-item::before {content: \"\";position: absolute;border-left: 1px solid gray;box-sizing: border-box;top: 0;bottom: 0;left: 50%;z-index: -1;}#sk-container-id-5 div.sk-parallel-item {display: flex;flex-direction: column;z-index: 1;position: relative;background-color: white;}#sk-container-id-5 div.sk-parallel-item:first-child::after {align-self: flex-end;width: 50%;}#sk-container-id-5 div.sk-parallel-item:last-child::after {align-self: flex-start;width: 50%;}#sk-container-id-5 div.sk-parallel-item:only-child::after {width: 0;}#sk-container-id-5 div.sk-dashed-wrapped {border: 1px dashed gray;margin: 0 0.4em 0.5em 0.4em;box-sizing: border-box;padding-bottom: 0.4em;background-color: white;}#sk-container-id-5 div.sk-label label {font-family: monospace;font-weight: bold;display: inline-block;line-height: 1.2em;}#sk-container-id-5 div.sk-label-container {text-align: center;}#sk-container-id-5 div.sk-container {/* jupyter's `normalize.less` sets `[hidden] { display: none; }` but bootstrap.min.css set `[hidden] { display: none !important; }` so we also need the `!important` here to be able to override the default hidden behavior on the sphinx rendered scikit-learn.org. See: https://github.com/scikit-learn/scikit-learn/issues/21755 */display: inline-block !important;position: relative;}#sk-container-id-5 div.sk-text-repr-fallback {display: none;}</style><div id=\"sk-container-id-5\" class=\"sk-top-container\"><div class=\"sk-text-repr-fallback\"><pre>SpectralClustering()</pre><b>In a Jupyter environment, please rerun this cell to show the HTML representation or trust the notebook. <br />On GitHub, the HTML representation is unable to render, please try loading this page with nbviewer.org.</b></div><div class=\"sk-container\" hidden><div class=\"sk-item\"><div class=\"sk-estimator sk-toggleable\"><input class=\"sk-toggleable__control sk-hidden--visually\" id=\"sk-estimator-id-5\" type=\"checkbox\" checked><label for=\"sk-estimator-id-5\" class=\"sk-toggleable__label sk-toggleable__label-arrow\">SpectralClustering</label><div class=\"sk-toggleable__content\"><pre>SpectralClustering()</pre></div></div></div></div></div>"
      ],
      "text/plain": [
       "SpectralClustering()"
      ]
     },
     "execution_count": 160,
     "metadata": {},
     "output_type": "execute_result"
    }
   ],
   "source": [
    "from sklearn.cluster import SpectralClustering\n",
    "\n",
    "model = SpectralClustering()\n",
    "\n",
    "model.fit(X_train_chi, y_train_chi)"
   ]
  },
  {
   "cell_type": "code",
   "execution_count": 161,
   "metadata": {},
   "outputs": [
    {
     "name": "stdout",
     "output_type": "stream",
     "text": [
      "accuracy of chi-squared =  0.19333333333333333\n",
      "(300,)\n",
      "(300,)\n"
     ]
    }
   ],
   "source": [
    "from sklearn.metrics import accuracy_score, confusion_matrix\n",
    "y_pred_chi = model.fit_predict(X_test_chi)\n",
    "\n",
    "accuracy = accuracy_score(y_test_chi, y_pred=y_pred_chi)\n",
    "print(\"accuracy of chi-squared = \", accuracy)\n",
    "\n",
    "# confusion_matrix(y_test_chi, y_pred_chi)\n",
    "# print(y_encode.shape)\n",
    "print(y_test_chi.shape)\n",
    "print(y_pred_chi.shape)\n"
   ]
  }
 ],
 "metadata": {
  "kernelspec": {
   "display_name": "tensor-metal",
   "language": "python",
   "name": "python3"
  },
  "language_info": {
   "codemirror_mode": {
    "name": "ipython",
    "version": 3
   },
   "file_extension": ".py",
   "mimetype": "text/x-python",
   "name": "python",
   "nbconvert_exporter": "python",
   "pygments_lexer": "ipython3",
   "version": "3.8.15"
  },
  "orig_nbformat": 4,
  "vscode": {
   "interpreter": {
    "hash": "be39e6169c1b31d00ea7efb485c56e5eb1013badc1c0c29800ed58f373877fa8"
   }
  }
 },
 "nbformat": 4,
 "nbformat_minor": 2
}
