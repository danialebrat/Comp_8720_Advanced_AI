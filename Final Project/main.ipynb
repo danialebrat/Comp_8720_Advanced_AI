{
 "cells": [
  {
   "cell_type": "code",
   "execution_count": 5,
   "metadata": {},
   "outputs": [],
   "source": [
    "import pandas as pd \n",
    "import matplotlib.pyplot as plt\n",
    "import seaborn as sn\n"
   ]
  },
  {
   "attachments": {},
   "cell_type": "markdown",
   "metadata": {},
   "source": [
    "## load Dataset"
   ]
  },
  {
   "cell_type": "code",
   "execution_count": 19,
   "metadata": {},
   "outputs": [],
   "source": [
    "X = pd.read_csv(\"./Dataset/data.csv\")\n",
    "y = pd.read_csv(\"./Dataset/labels.csv\")"
   ]
  },
  {
   "cell_type": "code",
   "execution_count": 26,
   "metadata": {},
   "outputs": [
    {
     "name": "stdout",
     "output_type": "stream",
     "text": [
      "(801, 20531)\n",
      "(801, 2)\n",
      "  Class\n",
      "0  PRAD\n",
      "1  LUAD\n",
      "2  PRAD\n",
      "3  PRAD\n",
      "4  BRCA\n"
     ]
    }
   ],
   "source": [
    "print(X.shape)\n",
    "print(y.shape)\n",
    "X = X.iloc[:, 1:]\n",
    "y = y.iloc[:, 1:]\n",
    "print(y.head())"
   ]
  },
  {
   "cell_type": "code",
   "execution_count": 28,
   "metadata": {},
   "outputs": [],
   "source": [
    "from sklearn.preprocessing import LabelEncoder\n",
    "le = LabelEncoder()\n",
    "y_encode = le.fit_transform(y)"
   ]
  },
  {
   "attachments": {},
   "cell_type": "markdown",
   "metadata": {},
   "source": [
    "## over sampling"
   ]
  },
  {
   "cell_type": "code",
   "execution_count": 34,
   "metadata": {},
   "outputs": [
    {
     "name": "stdout",
     "output_type": "stream",
     "text": [
      "(1500, 20530)\n",
      "(1500, 1)\n",
      "gene_1        1467\n",
      "gene_2        1492\n",
      "gene_3        1499\n",
      "gene_4        1498\n",
      "gene_5           1\n",
      "              ... \n",
      "gene_20526    1499\n",
      "gene_20527    1500\n",
      "gene_20528    1499\n",
      "gene_20529    1499\n",
      "gene_20530     264\n",
      "Length: 20530, dtype: int64\n",
      "Class    5\n",
      "dtype: int64\n",
      "Class\n",
      "BRCA     300\n",
      "COAD     300\n",
      "KIRC     300\n",
      "LUAD     300\n",
      "PRAD     300\n",
      "dtype: int64\n"
     ]
    }
   ],
   "source": [
    "from imblearn.over_sampling import SMOTE\n",
    "over_sample = SMOTE()\n",
    "\n",
    "X, y = over_sample.fit_resample(X, y)\n",
    "print(X.shape)\n",
    "print(y.shape)\n",
    "print(X.nunique())\n",
    "print(y.nunique())\n",
    "print(y.value_counts())"
   ]
  },
  {
   "attachments": {},
   "cell_type": "markdown",
   "metadata": {},
   "source": [
    "### Analyzing dataset after oversampling to find out whether there is any sample with all zero features or not. And then plot it"
   ]
  },
  {
   "cell_type": "code",
   "execution_count": 35,
   "metadata": {},
   "outputs": [
    {
     "data": {
      "image/png": "[encoded data removed]",
      "text/plain": [
       "<Figure size 640x480 with 1 Axes>"
      ]
     },
     "metadata": {},
     "output_type": "display_data"
    }
   ],
   "source": [
    "plt.hist(X.isin([0, 0.0]).sum())\n",
    "plt.show()"
   ]
  },
  {
   "cell_type": "code",
   "execution_count": null,
   "metadata": {},
   "outputs": [],
   "source": [
    "# Removing any NA samples.\n",
    "X1 - X.dropna()\n",
    "X2"
   ]
  }
 ],
 "metadata": {
  "kernelspec": {
   "display_name": "tensor-metal",
   "language": "python",
   "name": "python3"
  },
  "language_info": {
   "codemirror_mode": {
    "name": "ipython",
    "version": 3
   },
   "file_extension": ".py",
   "mimetype": "text/x-python",
   "name": "python",
   "nbconvert_exporter": "python",
   "pygments_lexer": "ipython3",
   "version": "3.8.15"
  },
  "orig_nbformat": 4,
  "vscode": {
   "interpreter": {
    "hash": "be39e6169c1b31d00ea7efb485c56e5eb1013badc1c0c29800ed58f373877fa8"
   }
  }
 },
 "nbformat": 4,
 "nbformat_minor": 2
}
